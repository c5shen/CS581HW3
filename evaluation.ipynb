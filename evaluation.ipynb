{
 "cells": [
  {
   "cell_type": "code",
   "execution_count": 1,
   "metadata": {},
   "outputs": [],
   "source": [
    "import matplotlib.pyplot as plt\n",
    "import seaborn as sns\n",
    "import pandas as pd\n",
    "import numpy as np"
   ]
  },
  {
   "cell_type": "code",
   "execution_count": 3,
   "metadata": {},
   "outputs": [
    {
     "name": "stdout",
     "output_type": "stream",
     "text": [
      "['p-distance', 'R0(164, 165)R1(err,err)', 'R2(180, 184)R3(err,err)', 'R4(220, 226)R5(157, 161)R6(173, 177)R7(178, 183)R8(183, 188)R9(176, 179)R10(169, 174)R11(187, 191)R12(202, 205)R13(174, 174)R14(163, 163)R15(173, 176)R16(224, 228)R17(159, 161)R18(164, 169)R19(207, 211)total effective18, averge false positive183.94444444444446,average false negative184.16666666666666', 'JC69', 'R0(192, 193)R1(err,err)', 'R2(212, 216)R3(219, 223)R4(247, 253)R5(176, 180)R6(err,err)', 'R7(217, 222)R8(213, 218)R9(197, 200)R10(201, 206)R11(223, 227)R12(237, 240)R13(223, 223)R14(188, 188)R15(err,err)', 'R16(286, 290)R17(186, 188)R18(219, 224)R19(240, 244)total effective17, averge false positive219.47058823529412,average false negative219.7058823529412', 'K2P', 'R0(382, 383)R1(err,err)', 'R2(err,err)', 'R3(err,err)', 'R4(547, 553)R5(372, 376)R6(428, 432)R7(385, 390)R8(err,err)', 'R9(489, 492)R10(445, 450)R11(385, 389)R12(err,err)', 'R13(455, 455)R14(425, 425)R15(err,err)', 'R16(err,err)', 'R17(err,err)', 'R18(395, 400)R19(err,err)', 'total effective11, averge false positive430.90909090909093,average false negative431.3636363636364', '']\n",
      "['p-distance', 'R0(101, 128)R1(78, 99)R2(105, 139)R3(90, 124)R4(89, 118)R5(88, 109)R6(117, 135)R7(112, 132)R8(102, 117)R9(94, 122)R10(111, 129)R11(108, 125)R12(125, 138)R13(82, 111)R14(109, 132)R15(91, 129)R16(96, 118)R17(97, 115)R18(120, 149)R19(93, 116)total effective20, averge false positive123.1,average false negative124.25', 'JC69', 'R0(94, 121)R1(56, 77)R2(74, 108)R3(73, 107)R4(78, 107)R5(64, 85)R6(err,err)', 'R7(90, 110)R8(81, 96)R9(err,err)', 'R10(72, 90)R11(97, 114)R12(96, 109)R13(59, 88)R14(93, 116)R15(86, 124)R16(81, 103)R17(83, 101)R18(78, 107)R19(77, 100)total effective18, averge false positive102.22222222222223,average false negative103.5', 'K2P', 'R0(114, 141)R1(64, 85)R2(89, 123)R3(89, 123)R4(93, 122)R5(79, 100)R6(109, 127)R7(102, 122)R8(94, 109)R9(91, 119)R10(83, 101)R11(105, 122)R12(106, 119)R13(73, 102)R14(99, 122)R15(99, 137)R16(92, 114)R17(err,err)', 'R18(101, 130)R19(98, 121)total effective19, averge false positive116.63157894736842,average false negative117.84210526315789', '']\n"
     ]
    }
   ],
   "source": [
    "# read in results from FastTree - BalME and NJ\n",
    "prefix_bme, suffix_bme = 'FastME-TaxAdd_BalME/result_', '_fastme_taxadd.txt'\n",
    "prefix_nj, suffix_nj = 'NJ/result_', '_nj.txt'\n",
    "datasets = ['1000M1', '1000M4']\n",
    "\n",
    "for d in datasets:\n",
    "    bme = open(prefix_bme+d+suffix_bme, 'r').read().split('\\n')\n",
    "    nj = open(prefix_nj+d+suffix_nj, 'r').read().split('\\n')\n",
    "    print(bme)"
   ]
  }
 ],
 "metadata": {
  "kernelspec": {
   "display_name": "Python 3",
   "language": "python",
   "name": "python3"
  },
  "language_info": {
   "codemirror_mode": {
    "name": "ipython",
    "version": 3
   },
   "file_extension": ".py",
   "mimetype": "text/x-python",
   "name": "python",
   "nbconvert_exporter": "python",
   "pygments_lexer": "ipython3",
   "version": "3.7.5"
  }
 },
 "nbformat": 4,
 "nbformat_minor": 2
}
